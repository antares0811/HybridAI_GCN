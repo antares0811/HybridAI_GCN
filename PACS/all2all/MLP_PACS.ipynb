{
  "cells": [
    {
      "cell_type": "code",
      "execution_count": 1,
      "id": "d4e45a49-974f-4f9c-8642-42e2c45aab71",
      "metadata": {
        "id": "d4e45a49-974f-4f9c-8642-42e2c45aab71"
      },
      "outputs": [],
      "source": [
        "import os\n",
        "os.environ['CUDA_VISIBLE_DEVICES'] = '2'\n",
        "\n",
        "import torch\n",
        "import torchvision.transforms as transforms\n",
        "import torch.nn as nn\n",
        "import torch.nn.functional as F\n",
        "from collections import OrderedDict\n",
        "import numpy as np\n",
        "import matplotlib.pyplot as plt\n",
        "\n",
        "from torchvision.datasets import CIFAR10\n",
        "from torch.utils.data import DataLoader\n",
        "from torch.optim import Adam\n",
        "import torchvision\n",
        "import torchvision.models as models\n",
        "from torchsummary import summary\n",
        "\n",
        "torch.manual_seed(1)\n",
        "device = 'cuda' if torch.cuda.is_available() else 'cpu'\n",
        "\n",
        "# fix seed\n",
        "np.random.seed(0)"
      ]
    },
    {
      "cell_type": "code",
      "execution_count": null,
      "id": "W4QVcUXZo44Y",
      "metadata": {
        "id": "W4QVcUXZo44Y"
      },
      "outputs": [],
      "source": []
    },
    {
      "cell_type": "markdown",
      "id": "f913360b-019e-4d69-a540-b7b5715544e1",
      "metadata": {
        "id": "f913360b-019e-4d69-a540-b7b5715544e1"
      },
      "source": [
        "## Data"
      ]
    },
    {
      "cell_type": "code",
      "execution_count": 2,
      "id": "2e53dbce",
      "metadata": {},
      "outputs": [],
      "source": [
        "# means and standard deviations ImageNet because the network is pretrained\n",
        "means, stds = (0.485, 0.456, 0.406), (0.229, 0.224, 0.225)\n",
        "\n",
        "# Define transforms to apply to each image\n",
        "transf = transforms.Compose([ #transforms.Resize(227),      # Resizes short size of the PIL image to 256\n",
        "                              transforms.CenterCrop(224),  # Crops a central square patch of the image 224 because torchvision's AlexNet needs a 224x224 input!\n",
        "                              transforms.ToTensor(), # Turn PIL Image to torch.Tensor\n",
        "                              transforms.Normalize(means,stds) # Normalizes tensor with mean and standard deviation\n",
        "])"
      ]
    },
    {
      "cell_type": "code",
      "execution_count": 3,
      "id": "3ad21976-2d99-49b7-b0b5-84e9ebcd371e",
      "metadata": {
        "id": "3ad21976-2d99-49b7-b0b5-84e9ebcd371e",
        "outputId": "141aeb93-cb68-4184-947c-9b30ac4b3591"
      },
      "outputs": [
        {
          "name": "stdout",
          "output_type": "stream",
          "text": [
            "Photo Dataset: 1670\n",
            "Art Dataset: 2048\n",
            "Cartoon Dataset: 2344\n",
            "Sketch Dataset: 3929\n"
          ]
        }
      ],
      "source": [
        "# Clone github repository with data\n",
        "if not os.path.isdir('./Homework3-PACS'):\n",
        "  !git clone https://github.com/MachineLearning2020/Homework3-PACS\n",
        "\n",
        "# Define datasets root\n",
        "DIR_PHOTO = 'Homework3-PACS/PACS/photo'\n",
        "DIR_ART = 'Homework3-PACS/PACS/art_painting'\n",
        "DIR_CARTOON = 'Homework3-PACS/PACS/cartoon'\n",
        "DIR_SKETCH = 'Homework3-PACS/PACS/sketch'\n",
        "\n",
        "# Prepare Pytorch train/test Datasets\n",
        "photo_dataset = torchvision.datasets.ImageFolder(DIR_PHOTO, transform=transf)\n",
        "art_dataset = torchvision.datasets.ImageFolder(DIR_ART, transform=transf)\n",
        "cartoon_dataset = torchvision.datasets.ImageFolder(DIR_CARTOON, transform=transf)\n",
        "sketch_dataset = torchvision.datasets.ImageFolder(DIR_SKETCH, transform=transf)\n",
        "\n",
        "# Check dataset sizes\n",
        "print(f\"Photo Dataset: {len(photo_dataset)}\")\n",
        "print(f\"Art Dataset: {len(art_dataset)}\")\n",
        "print(f\"Cartoon Dataset: {len(cartoon_dataset)}\")\n",
        "print(f\"Sketch Dataset: {len(sketch_dataset)}\")"
      ]
    },
    {
      "cell_type": "code",
      "execution_count": 4,
      "id": "c5906afa",
      "metadata": {},
      "outputs": [],
      "source": [
        "# concat all datasets\n",
        "full_dataset = torch.utils.data.ConcatDataset([photo_dataset, art_dataset, cartoon_dataset, sketch_dataset])\n",
        "\n",
        "# Split dataset into train and test\n",
        "train_size = int(0.8 * len(full_dataset))\n",
        "test_size = len(full_dataset) - train_size\n",
        "\n",
        "train_dataset, test_dataset = torch.utils.data.random_split(full_dataset, [train_size, test_size])"
      ]
    },
    {
      "cell_type": "code",
      "execution_count": 5,
      "id": "3d95e2dc",
      "metadata": {},
      "outputs": [],
      "source": [
        "# Create Dataloaders\n",
        "trainloader = DataLoader(train_dataset, batch_size=128, shuffle=True, num_workers=4, drop_last=True)\n",
        "testloader = DataLoader(test_dataset, batch_size=128, shuffle=False, num_workers=4)"
      ]
    },
    {
      "cell_type": "markdown",
      "id": "6ea0dde8-29e7-4096-bd15-6a5ed74655f0",
      "metadata": {
        "id": "6ea0dde8-29e7-4096-bd15-6a5ed74655f0"
      },
      "source": [
        "## Model"
      ]
    },
    {
      "cell_type": "code",
      "execution_count": 6,
      "id": "15910cb0",
      "metadata": {},
      "outputs": [],
      "source": [
        "from torchvision.models import mobilenet_v3_small\n",
        "\n",
        "class Model(nn.Module):\n",
        "    def __init__(self, num_classes=2):\n",
        "        super(Model, self).__init__()\n",
        "        self.backbone = mobilenet_v3_small(pretrained=True)\n",
        "        self.backbone.classifier = nn.Sequential()\n",
        "        \n",
        "        self.head = nn.Sequential(OrderedDict([\n",
        "            ('fc1', nn.Linear(576, 256)),\n",
        "            ('relu', nn.ReLU()),\n",
        "            ('fc2', nn.Linear(256, num_classes))\n",
        "        ]))\n",
        "\n",
        "    def forward(self, x):\n",
        "        x = self.backbone(x)\n",
        "        x = self.head(x)\n",
        "        return x"
      ]
    },
    {
      "cell_type": "code",
      "execution_count": 7,
      "id": "b6a3ffdc",
      "metadata": {},
      "outputs": [
        {
          "name": "stderr",
          "output_type": "stream",
          "text": [
            "/home/gb2t/anaconda3/envs/duc_open_sora/lib/python3.8/site-packages/torchvision/models/_utils.py:208: UserWarning: The parameter 'pretrained' is deprecated since 0.13 and may be removed in the future, please use 'weights' instead.\n",
            "  warnings.warn(\n",
            "/home/gb2t/anaconda3/envs/duc_open_sora/lib/python3.8/site-packages/torchvision/models/_utils.py:223: UserWarning: Arguments other than a weight enum or `None` for 'weights' are deprecated since 0.13 and may be removed in the future. The current behavior is equivalent to passing `weights=MobileNet_V3_Small_Weights.IMAGENET1K_V1`. You can also use `weights=MobileNet_V3_Small_Weights.DEFAULT` to get the most up-to-date weights.\n",
            "  warnings.warn(msg)\n"
          ]
        }
      ],
      "source": [
        "model = Model(num_classes=7).to(device)"
      ]
    },
    {
      "cell_type": "code",
      "execution_count": null,
      "id": "61b03fcd",
      "metadata": {},
      "outputs": [],
      "source": []
    },
    {
      "cell_type": "markdown",
      "id": "43c7b151-a199-4e2a-8015-fdfb5f166284",
      "metadata": {
        "id": "43c7b151-a199-4e2a-8015-fdfb5f166284"
      },
      "source": [
        "# Train"
      ]
    },
    {
      "cell_type": "code",
      "execution_count": 8,
      "id": "1464e2bd-b627-475d-9941-f2a930d69a14",
      "metadata": {
        "id": "1464e2bd-b627-475d-9941-f2a930d69a14"
      },
      "outputs": [],
      "source": [
        "criterion = nn.CrossEntropyLoss()\n",
        "optimizer = Adam(model.parameters(), lr=1e-4)"
      ]
    },
    {
      "cell_type": "code",
      "execution_count": 9,
      "id": "04744c84-1e6d-4bfb-8dd5-abbdc91f102e",
      "metadata": {
        "id": "04744c84-1e6d-4bfb-8dd5-abbdc91f102e"
      },
      "outputs": [],
      "source": [
        "# Function to compute loss and accuracy for test set\n",
        "def evaluate(model, testloader, criterion):\n",
        "    model.eval()\n",
        "    test_loss = 0.0\n",
        "    running_correct = 0\n",
        "    total = 0\n",
        "    with torch.no_grad():\n",
        "        for images, labels in testloader:\n",
        "            # Move inputs and labels to the device\n",
        "            images, labels = images.to(device), labels.to(device)\n",
        "\n",
        "            outputs = model(images)\n",
        "            \n",
        "            # loss\n",
        "            loss = criterion(outputs, labels)\n",
        "        \n",
        "            test_loss += loss.item()\n",
        "\n",
        "            _, predicted = torch.max(outputs.data, 1)\n",
        "            total += labels.size(0)\n",
        "            running_correct += (predicted == labels).sum().item()\n",
        "\n",
        "    accuracy = 100 * running_correct / total\n",
        "    test_loss = test_loss / len(testloader)\n",
        "    return test_loss, accuracy"
      ]
    },
    {
      "cell_type": "code",
      "execution_count": 10,
      "id": "f2402591-e7f7-4bdd-8962-c029cfcd9307",
      "metadata": {
        "id": "f2402591-e7f7-4bdd-8962-c029cfcd9307"
      },
      "outputs": [],
      "source": [
        "# some parameter\n",
        "train_losses = []\n",
        "train_accuracies = []\n",
        "test_losses = []\n",
        "test_accuracies = []\n",
        "max_epoch = 30"
      ]
    },
    {
      "cell_type": "code",
      "execution_count": 11,
      "id": "190a58e1-0864-4818-a8d2-0f83212c6d13",
      "metadata": {
        "id": "190a58e1-0864-4818-a8d2-0f83212c6d13",
        "outputId": "3724347d-79a0-421d-e565-81297021a64d"
      },
      "outputs": [
        {
          "name": "stdout",
          "output_type": "stream",
          "text": [
            "Epoch [ 1/ 30] \t Loss: 1.53382     Accuracy: 52.936% \t Test Loss: 0.99895     Test Accuracy: 69.63%\n",
            "Epoch [ 2/ 30] \t Loss: 0.66618     Accuracy: 80.885% \t Test Loss: 0.57919     Test Accuracy: 81.14%\n",
            "Epoch [ 3/ 30] \t Loss: 0.36460     Accuracy: 88.256% \t Test Loss: 0.41443     Test Accuracy: 85.49%\n",
            "Epoch [ 4/ 30] \t Loss: 0.24315     Accuracy: 92.011% \t Test Loss: 0.36130     Test Accuracy: 87.39%\n",
            "Epoch [ 5/ 30] \t Loss: 0.16747     Accuracy: 94.556% \t Test Loss: 0.34699     Test Accuracy: 87.64%\n",
            "Epoch [ 6/ 30] \t Loss: 0.11634     Accuracy: 96.459% \t Test Loss: 0.33512     Test Accuracy: 88.19%\n",
            "Epoch [ 7/ 30] \t Loss: 0.07717     Accuracy: 97.959% \t Test Loss: 0.36899     Test Accuracy: 88.04%\n",
            "Epoch [ 8/ 30] \t Loss: 0.05055     Accuracy: 98.841% \t Test Loss: 0.35556     Test Accuracy: 89.04%\n",
            "Epoch [ 9/ 30] \t Loss: 0.03947     Accuracy: 99.131% \t Test Loss: 0.42768     Test Accuracy: 88.14%\n",
            "Epoch [10/ 30] \t Loss: 0.02674     Accuracy: 99.483% \t Test Loss: 0.37179     Test Accuracy: 89.09%\n",
            "Epoch [11/ 30] \t Loss: 0.01829     Accuracy: 99.723% \t Test Loss: 0.37067     Test Accuracy: 89.24%\n",
            "Epoch [12/ 30] \t Loss: 0.01465     Accuracy: 99.710% \t Test Loss: 0.38469     Test Accuracy: 89.79%\n",
            "Epoch [13/ 30] \t Loss: 0.01163     Accuracy: 99.811% \t Test Loss: 0.40720     Test Accuracy: 89.34%\n",
            "Epoch [14/ 30] \t Loss: 0.00869     Accuracy: 99.861% \t Test Loss: 0.39116     Test Accuracy: 89.89%\n",
            "Epoch [15/ 30] \t Loss: 0.00814     Accuracy: 99.874% \t Test Loss: 0.42228     Test Accuracy: 89.64%\n",
            "Epoch [16/ 30] \t Loss: 0.00603     Accuracy: 99.962% \t Test Loss: 0.41241     Test Accuracy: 90.40%\n",
            "Epoch [17/ 30] \t Loss: 0.00541     Accuracy: 99.924% \t Test Loss: 0.46447     Test Accuracy: 89.49%\n",
            "Epoch [18/ 30] \t Loss: 0.00578     Accuracy: 99.874% \t Test Loss: 0.48057     Test Accuracy: 89.34%\n",
            "Epoch [19/ 30] \t Loss: 0.00494     Accuracy: 99.924% \t Test Loss: 0.43404     Test Accuracy: 89.74%\n",
            "Epoch [20/ 30] \t Loss: 0.00620     Accuracy: 99.874% \t Test Loss: 0.43954     Test Accuracy: 90.20%\n",
            "Epoch [21/ 30] \t Loss: 0.00577     Accuracy: 99.874% \t Test Loss: 0.52070     Test Accuracy: 89.24%\n",
            "Epoch [22/ 30] \t Loss: 0.00282     Accuracy: 99.987% \t Test Loss: 0.45780     Test Accuracy: 90.05%\n",
            "Epoch [23/ 30] \t Loss: 0.00157     Accuracy: 100.000% \t Test Loss: 0.46365     Test Accuracy: 89.94%\n",
            "Epoch [24/ 30] \t Loss: 0.00167     Accuracy: 100.000% \t Test Loss: 0.47147     Test Accuracy: 89.94%\n",
            "Epoch [25/ 30] \t Loss: 0.00146     Accuracy: 100.000% \t Test Loss: 0.47208     Test Accuracy: 90.05%\n",
            "Epoch [26/ 30] \t Loss: 0.00224     Accuracy: 99.975% \t Test Loss: 0.48171     Test Accuracy: 89.64%\n",
            "Epoch [27/ 30] \t Loss: 0.00211     Accuracy: 99.987% \t Test Loss: 0.50175     Test Accuracy: 90.05%\n",
            "Epoch [28/ 30] \t Loss: 0.00928     Accuracy: 99.672% \t Test Loss: 0.48183     Test Accuracy: 89.84%\n",
            "Epoch [29/ 30] \t Loss: 0.01300     Accuracy: 99.559% \t Test Loss: 0.47765     Test Accuracy: 89.89%\n",
            "Epoch [30/ 30] \t Loss: 0.01237     Accuracy: 99.660% \t Test Loss: 0.46743     Test Accuracy: 89.49%\n"
          ]
        }
      ],
      "source": [
        "# train\n",
        "for epoch in range(max_epoch):\n",
        "    model.train()\n",
        "    running_loss = 0.0\n",
        "    running_correct = 0   # to track number of correct predictions\n",
        "    total = 0             # to track total number of samples\n",
        "\n",
        "    for i, (inputs, labels) in enumerate(trainloader, 0):\n",
        "        # Move inputs and labels to the device\n",
        "        inputs, labels = inputs.to(device), labels.to(device)\n",
        "\n",
        "        # Zero the parameter gradients\n",
        "        optimizer.zero_grad()\n",
        "\n",
        "        # Forward pass\n",
        "        outputs = model(inputs)\n",
        "        \n",
        "        # loss\n",
        "        loss= criterion(outputs, labels)\n",
        "                    \n",
        "        running_loss += loss.item()\n",
        "\n",
        "        # Backward pass and optimization\n",
        "        loss.backward()\n",
        "        optimizer.step()\n",
        "\n",
        "        # Determine class predictions and track accuracy\n",
        "        _, predicted = torch.max(outputs.data, 1)\n",
        "        total += labels.size(0)\n",
        "        running_correct += (predicted == labels).sum().item()\n",
        "\n",
        "\n",
        "    epoch_accuracy = 100 * running_correct / total\n",
        "    epoch_loss = running_loss / (i + 1)\n",
        "\n",
        "    test_loss, test_accuracy = evaluate(model, testloader, criterion)\n",
        "    print(f\"Epoch [{(epoch + 1):2}/{max_epoch:3}] \\t Loss: {epoch_loss:<11.5f} Accuracy: {epoch_accuracy:.3f}% \\t Test Loss: {test_loss:<11.5f} Test Accuracy: {test_accuracy:.2f}%\")\n",
        "\n",
        "    # save for plot\n",
        "    train_losses.append(epoch_loss)\n",
        "    train_accuracies.append(epoch_accuracy)\n",
        "    test_losses.append(test_loss)\n",
        "    test_accuracies.append(test_accuracy)"
      ]
    },
    {
      "cell_type": "code",
      "execution_count": 12,
      "id": "cebcb439-88f2-40b6-9a17-4990ad324731",
      "metadata": {
        "id": "cebcb439-88f2-40b6-9a17-4990ad324731",
        "outputId": "7ad0b1ef-641d-447f-af55-8cee47220cf8"
      },
      "outputs": [
        {
          "name": "stdout",
          "output_type": "stream",
          "text": [
            "\n",
            "Best epoch: 16 with test accuracy: 90.40%\n"
          ]
        }
      ],
      "source": [
        "# the best accuracy\n",
        "best_epoch = np.argmax(test_accuracies)\n",
        "print(f\"\\nBest epoch: {best_epoch + 1} with test accuracy: {test_accuracies[best_epoch]:.2f}%\")"
      ]
    },
    {
      "cell_type": "markdown",
      "id": "z0RuEa2Wo44e",
      "metadata": {
        "id": "z0RuEa2Wo44e"
      },
      "source": [
        "# Plot results"
      ]
    },
    {
      "cell_type": "code",
      "execution_count": 13,
      "id": "DkC3_902Lgn-",
      "metadata": {
        "id": "DkC3_902Lgn-",
        "outputId": "980415bb-e7bf-4cd0-f937-7bdb4bbeeb21"
      },
      "outputs": [
        {
          "data": {
            "text/plain": [
              "<matplotlib.legend.Legend at 0x7d020c904640>"
            ]
          },
          "execution_count": 13,
          "metadata": {},
          "output_type": "execute_result"
        },
        {
          "data": {
            "image/png": "[encoded data removed]",
            "text/plain": [
              "<Figure size 640x480 with 1 Axes>"
            ]
          },
          "metadata": {},
          "output_type": "display_data"
        }
      ],
      "source": [
        "plt.plot(train_losses, label='train_losses')\n",
        "plt.plot(test_losses, label='test_losses')\n",
        "plt.legend()"
      ]
    },
    {
      "cell_type": "code",
      "execution_count": 14,
      "id": "794f4e81",
      "metadata": {
        "id": "794f4e81",
        "outputId": "bf94f552-5d0c-4673-aa28-ab1ea2622dc1"
      },
      "outputs": [
        {
          "data": {
            "text/plain": [
              "<matplotlib.legend.Legend at 0x7d02005d6220>"
            ]
          },
          "execution_count": 14,
          "metadata": {},
          "output_type": "execute_result"
        },
        {
          "data": {
            "image/png": "[encoded data removed]",
            "text/plain": [
              "<Figure size 640x480 with 1 Axes>"
            ]
          },
          "metadata": {},
          "output_type": "display_data"
        }
      ],
      "source": [
        "plt.plot(train_accuracies, label='train_accuracy')\n",
        "plt.plot(test_accuracies, label='test_accuracy')\n",
        "plt.legend()"
      ]
    },
    {
      "cell_type": "code",
      "execution_count": 15,
      "id": "a2ec7c96-ff05-4863-92e7-c45f2f0e3d03",
      "metadata": {
        "id": "a2ec7c96-ff05-4863-92e7-c45f2f0e3d03"
      },
      "outputs": [],
      "source": [
        "# save model\n",
        "# torch.save(model.state_dict(), 'mobilenetv3_small.pth')"
      ]
    },
    {
      "cell_type": "code",
      "execution_count": null,
      "id": "a9f0e913",
      "metadata": {},
      "outputs": [],
      "source": []
    }
  ],
  "metadata": {
    "accelerator": "GPU",
    "colab": {
      "provenance": []
    },
    "gpuClass": "standard",
    "kernelspec": {
      "display_name": "Python 3 (ipykernel)",
      "language": "python",
      "name": "python3"
    },
    "language_info": {
      "codemirror_mode": {
        "name": "ipython",
        "version": 3
      },
      "file_extension": ".py",
      "mimetype": "text/x-python",
      "name": "python",
      "nbconvert_exporter": "python",
      "pygments_lexer": "ipython3",
      "version": "3.8.18"
    }
  },
  "nbformat": 4,
  "nbformat_minor": 5
}
